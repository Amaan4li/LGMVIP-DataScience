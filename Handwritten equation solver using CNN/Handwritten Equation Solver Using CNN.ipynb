{
 "cells": [
  {
   "cell_type": "markdown",
   "metadata": {
    "id": "kWEWkjP9Ptqk"
   },
   "source": [
    "# LGM Virtual Internship Program"
   ]
  },
  {
   "cell_type": "markdown",
   "metadata": {},
   "source": [
    "## Advanced Level Task 3 : Handwritten equation solver using CNN"
   ]
  },
  {
   "cell_type": "markdown",
   "metadata": {},
   "source": [
    "## Advanced Level Project"
   ]
  },
  {
   "cell_type": "markdown",
   "metadata": {},
   "source": [
    "## Dataset : https://www.kaggle.com/xainano/handwrittenmathsymbols"
   ]
  },
  {
   "cell_type": "markdown",
   "metadata": {},
   "source": [
    "# Name : Amaan Ali"
   ]
  },
  {
   "cell_type": "markdown",
   "metadata": {},
   "source": [
    "# ----------------------------------------------------------------------------------------------------------------"
   ]
  },
  {
   "cell_type": "code",
   "execution_count": null,
   "metadata": {
    "id": "1WmfmRq3WMOc"
   },
   "outputs": [],
   "source": [
    "from skimage.io import imread\n",
    "from skimage.filters import gaussian, threshold_minimum\n",
    "from skimage.morphology import square, erosion, thin\n",
    "from skimage import img_as_ubyte\n",
    "import numpy as np\n",
    "import cv2"
   ]
  },
  {
   "cell_type": "code",
   "execution_count": null,
   "metadata": {
    "id": "8VtYSoiMW6CO"
   },
   "outputs": [],
   "source": [
    "def binarize(image_abs_path):\n",
    "\n",
    "    # Convert color image (3-channel deep) into grayscale (1-channel deep)\n",
    "    # We reduce image dimensionality in order to remove unrelevant features like color.\n",
    "    grayscale_img = imread(image_abs_path, as_gray=True)\n",
    "\n",
    "    # Apply Gaussian Blur effect - this removes image noise\n",
    "    gaussian_blur = gaussian(grayscale_img)\n",
    "\n",
    "    # Apply minimum threshold\n",
    "    thresh_sauvola = threshold_minimum(gaussian_blur)\n",
    "\n",
    "    # Convert thresh_sauvola array values to either 1 or 0 (white or black)\n",
    "    binary_img = gaussian_blur > thresh_sauvola\n",
    "\n",
    "    return binary_img\n",
    "\n",
    "def shift(contour):\n",
    "\n",
    "    # Get minimal X and Y coordinates\n",
    "    x_min, y_min = contour.min(axis=0)[0]\n",
    "\n",
    "    # Subtract (x_min, y_min) from every contour point\n",
    "    return np.subtract(contour, [x_min, y_min])\n",
    "\n",
    "def get_scale(cont_width, cont_height, box_size):\n",
    "\n",
    "    ratio = cont_width / cont_height\n",
    "\n",
    "    if ratio < 1.0:\n",
    "        return box_size / cont_height\n",
    "    else:\n",
    "        return box_size / cont_width\n",
    "\n",
    "def extract_patterns(image_abs_path):\n",
    "\n",
    "    max_intensity = 1\n",
    "    # Here we define the size of the square box that will contain a single pattern\n",
    "    box_size = 28\n",
    "\n",
    "    binary_img = binarize(image_abs_path)\n",
    "\n",
    "    # Apply erosion step - make patterns thicker\n",
    "    eroded_img = erosion(binary_img, selem=square(3))\n",
    "\n",
    "    # Inverse colors: black --> white | white --> black\n",
    "    binary_inv_img = max_intensity - eroded_img\n",
    "\n",
    "    # Apply thinning algorithm\n",
    "    thinned_img = thin(binary_inv_img)\n",
    "\n",
    "    # Before we apply opencv method, we need to convert scikit image to opencv image\n",
    "    thinned_img_cv = img_as_ubyte(thinned_img)\n",
    "\n",
    "    # Find contours\n",
    "    contours, _ = cv2.findContours(thinned_img_cv, mode=cv2.RETR_EXTERNAL, method=cv2.CHAIN_APPROX_SIMPLE)\n",
    "\n",
    "    # Sort contours from left to right (sort by bounding rectangle's X coordinate)\n",
    "    contours = sorted(contours, key=lambda cont: cv2.boundingRect(cont)[0])\n",
    "\n",
    "     # Initialize patterns array\n",
    "    patterns = []\n",
    "\n",
    "    for contour in contours:\n",
    "\n",
    "        # Initialize blank white box that will contain a single pattern\n",
    "        pattern = np.ones(shape=(box_size, box_size), dtype=np.uint8) * 255\n",
    "\n",
    "        # Shift contour coordinates so that they are now relative to its square image\n",
    "        shifted_cont = shift(contour)\n",
    "\n",
    "        # Get size of the contour\n",
    "        cont_width, cont_height = cv2.boundingRect(contour)[2:]\n",
    "        # boundingRect method returns width and height values that are too big by 1 pixel\n",
    "        cont_width -= 1\n",
    "        cont_height -= 1\n",
    "\n",
    "        # Get scale - we will use this scale to interpolate contour so that it fits into\n",
    "        # box_size X box_size square box.\n",
    "        scale = get_scale(cont_width, cont_height, box_size)\n",
    "\n",
    "        # Interpolate contour and round coordinate values to int type\n",
    "        rescaled_cont = np.floor(shifted_cont * scale).astype(dtype=np.int32)\n",
    "\n",
    "        # Get size of the rescaled contour\n",
    "        rescaled_cont_width, rescaled_cont_height = cont_width * scale, cont_height * scale\n",
    "\n",
    "        # Get margin\n",
    "        margin_x = int((box_size - rescaled_cont_width) / 2)\n",
    "        margin_y = int((box_size - rescaled_cont_height) / 2)\n",
    "\n",
    "        # Center pattern wihin a square box - we move pattern right by a proper margin\n",
    "        centered_cont = np.add(rescaled_cont, [margin_x, margin_y])\n",
    "\n",
    "        # Draw centered contour on a blank square box\n",
    "        cv2.drawContours(pattern, [centered_cont], contourIdx=0, color=(0))\n",
    "\n",
    "        patterns.append(pattern)\n",
    "\n",
    "    return patterns\n"
   ]
  },
  {
   "cell_type": "code",
   "execution_count": null,
   "metadata": {
    "id": "HR4DlCCDXUiE"
   },
   "outputs": [],
   "source": [
    "import tensorflow as tf\n",
    "from tensorflow import keras\n",
    "import numpy as np\n",
    "from IPython.display import Image, display"
   ]
  },
  {
   "cell_type": "code",
   "execution_count": null,
   "metadata": {
    "colab": {
     "base_uri": "https://localhost:8080/"
    },
    "id": "L9LU3b8xa3PW",
    "outputId": "ec18753a-175d-4928-fdf7-86e625ef522a"
   },
   "outputs": [
    {
     "name": "stdout",
     "output_type": "stream",
     "text": [
      "Mounted at /content/drive\n"
     ]
    }
   ],
   "source": [
    "# Load the Drive helper and mount\n",
    "from google.colab import drive\n",
    "\n",
    "# This will prompt for authorization.\n",
    "drive.mount('/content/drive')"
   ]
  },
  {
   "cell_type": "code",
   "execution_count": null,
   "metadata": {
    "colab": {
     "base_uri": "https://localhost:8080/"
    },
    "id": "nCBRHlrQdKY3",
    "outputId": "2944f8eb-1b1a-48d7-97f3-48f7617b17b0"
   },
   "outputs": [
    {
     "name": "stdout",
     "output_type": "stream",
     "text": [
      "Done\n"
     ]
    }
   ],
   "source": [
    "from zipfile import ZipFile\n",
    "file_name = \"my_model.zip\"\n",
    "\n",
    "with ZipFile(file_name, 'r') as zip:\n",
    "  zip.extractall()\n",
    "  print(\"Done\")"
   ]
  },
  {
   "cell_type": "code",
   "execution_count": null,
   "metadata": {
    "colab": {
     "base_uri": "https://localhost:8080/"
    },
    "id": "BdPJeqf8eWrk",
    "outputId": "c9e359f9-dd20-4290-87be-e52c178ab071"
   },
   "outputs": [
    {
     "name": "stdout",
     "output_type": "stream",
     "text": [
      "WARNING:tensorflow:SavedModel saved prior to TF 2.5 detected when loading Keras model. Please ensure that you are saving the model with model.save() or tf.keras.models.save_model(), *NOT* tf.saved_model.save(). To confirm, there should be a file named \"keras_metadata.pb\" in the SavedModel directory.\n"
     ]
    }
   ],
   "source": [
    "model = tf.keras.models.load_model('/content/my_model')\n",
    "class_names = ['%', '*', '+', '-', '0', '1', '2', '3', '4', '5', '6', '7', '8', '9', '[', ']']"
   ]
  },
  {
   "cell_type": "code",
   "execution_count": null,
   "metadata": {
    "colab": {
     "base_uri": "https://localhost:8080/"
    },
    "id": "q4wQ6e_6ejho",
    "outputId": "c71c07e2-55c7-4bab-94b2-56fc8bf86ea2"
   },
   "outputs": [
    {
     "name": "stdout",
     "output_type": "stream",
     "text": [
      "Model: \"sequential_1\"\n",
      "_________________________________________________________________\n",
      "Layer (type)                 Output Shape              Param #   \n",
      "=================================================================\n",
      "rescaling_2 (Rescaling)      (None, 28, 28, 1)         0         \n",
      "_________________________________________________________________\n",
      "conv2d_3 (Conv2D)            (None, 28, 28, 16)        160       \n",
      "_________________________________________________________________\n",
      "max_pooling2d_3 (MaxPooling2 (None, 14, 14, 16)        0         \n",
      "_________________________________________________________________\n",
      "conv2d_4 (Conv2D)            (None, 14, 14, 32)        4640      \n",
      "_________________________________________________________________\n",
      "max_pooling2d_4 (MaxPooling2 (None, 7, 7, 32)          0         \n",
      "_________________________________________________________________\n",
      "conv2d_5 (Conv2D)            (None, 7, 7, 64)          18496     \n",
      "_________________________________________________________________\n",
      "max_pooling2d_5 (MaxPooling2 (None, 3, 3, 64)          0         \n",
      "_________________________________________________________________\n",
      "dropout_1 (Dropout)          (None, 3, 3, 64)          0         \n",
      "_________________________________________________________________\n",
      "flatten_1 (Flatten)          (None, 576)               0         \n",
      "_________________________________________________________________\n",
      "dense_2 (Dense)              (None, 128)               73856     \n",
      "_________________________________________________________________\n",
      "dense_3 (Dense)              (None, 16)                2064      \n",
      "=================================================================\n",
      "Total params: 99,216\n",
      "Trainable params: 99,216\n",
      "Non-trainable params: 0\n",
      "_________________________________________________________________\n"
     ]
    }
   ],
   "source": [
    "model.summary()"
   ]
  },
  {
   "cell_type": "code",
   "execution_count": null,
   "metadata": {
    "colab": {
     "base_uri": "https://localhost:8080/",
     "height": 117
    },
    "id": "RdYHWjEPdKjj",
    "outputId": "d0a91427-77df-46a5-acb9-f11657f59816"
   },
   "outputs": [
    {
     "data": {
      "image/png": "[encoded data removed]",
      "text/plain": [
       "<IPython.core.display.Image object>"
      ]
     },
     "metadata": {},
     "output_type": "display_data"
    },
    {
     "name": "stderr",
     "output_type": "stream",
     "text": [
      "/usr/local/lib/python3.7/dist-packages/keras_preprocessing/image/utils.py:107: UserWarning: grayscale is deprecated. Please use color_mode = \"grayscale\"\n",
      "  warnings.warn('grayscale is deprecated. Please use '\n"
     ]
    },
    {
     "name": "stdout",
     "output_type": "stream",
     "text": [
      "This image most likely belongs to 4 with a 100.00 percent confidence.\n"
     ]
    }
   ],
   "source": [
    "img_path = \"/content/4.png\"\n",
    "display(Image(filename=img_path)) \n",
    "img = keras.preprocessing.image.load_img(\n",
    "    img_path, target_size=(28, 28), grayscale=True\n",
    ")\n",
    "img_array = keras.preprocessing.image.img_to_array(img)\n",
    "img_array = tf.expand_dims(img_array, 0)\n",
    "\n",
    "predictions = model.predict(img_array)\n",
    "score = tf.nn.softmax(predictions[0])\n",
    "\n",
    "print(\n",
    "    \"This image most likely belongs to {} with a {:.2f} percent confidence.\"\n",
    "    .format(class_names[np.argmax(score)], 100 * np.max(score))\n",
    ")"
   ]
  },
  {
   "cell_type": "code",
   "execution_count": null,
   "metadata": {
    "id": "5MOIqfrtewW8"
   },
   "outputs": [],
   "source": [
    "def predict_image(img):\n",
    "    img_array = keras.preprocessing.image.img_to_array(img)\n",
    "    img_array = tf.expand_dims(img_array, 0) # Create a batch\n",
    "    predictions = model.predict(img_array)\n",
    "    score = tf.nn.softmax(predictions[0])\n",
    "    \n",
    "    return (class_names[np.argmax(score)], 100 * np.max(score))"
   ]
  },
  {
   "cell_type": "code",
   "execution_count": null,
   "metadata": {
    "colab": {
     "base_uri": "https://localhost:8080/",
     "height": 259
    },
    "id": "rtvsZOQTe3_7",
    "outputId": "4917337c-b7cd-4bfd-eabb-2772bedb1659"
   },
   "outputs": [
    {
     "data": {
      "image/jpeg": "[encoded data removed]",
      "text/plain": [
       "<IPython.core.display.Image object>"
      ]
     },
     "metadata": {},
     "output_type": "display_data"
    },
    {
     "name": "stdout",
     "output_type": "stream",
     "text": [
      "('9', 98.79574179649353)\n",
      "('+', 99.32170510292053)\n",
      "('3', 99.99513626098633)\n",
      "('-', 99.91315007209778)\n",
      "('5', 99.1050124168396)\n",
      "Equation: 9 + 3 - 5 \n",
      "Solution: 7\n"
     ]
    }
   ],
   "source": [
    "img_path = \"/content/test1.jpeg\"\n",
    "display(Image(filename=img_path)) \n",
    "patterns = extract_patterns(img_path)\n",
    "eq = ''\n",
    "\n",
    "for pattern in patterns:\n",
    "    patrern_string = predict_image(pattern)\n",
    "    print(patrern_string)\n",
    "    eq = eq +  str(patrern_string[0]) + \" \"\n",
    "\n",
    "print(\"Equation:\", eq)\n",
    "print(\"Solution:\", eval(eq))"
   ]
  }
 ],
 "metadata": {
  "colab": {
   "collapsed_sections": [],
   "name": "Task3_HandwrittenEquationSolverUsingCNN.ipynb",
   "provenance": []
  },
  "kernelspec": {
   "display_name": "Python 3",
   "language": "python",
   "name": "python3"
  },
  "language_info": {
   "codemirror_mode": {
    "name": "ipython",
    "version": 3
   },
   "file_extension": ".py",
   "mimetype": "text/x-python",
   "name": "python",
   "nbconvert_exporter": "python",
   "pygments_lexer": "ipython3",
   "version": "3.8.8"
  }
 },
 "nbformat": 4,
 "nbformat_minor": 1
}
